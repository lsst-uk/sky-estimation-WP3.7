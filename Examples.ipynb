{
 "cells": [
  {
   "cell_type": "markdown",
   "id": "ba399ec1",
   "metadata": {},
   "source": [
    "# Tutorial\n",
    "---"
   ]
  },
  {
   "cell_type": "markdown",
   "id": "4f1aa22d",
   "metadata": {},
   "source": [
    "Last run: 31/01/2024"
   ]
  },
  {
   "cell_type": "markdown",
   "id": "9e28e5c6",
   "metadata": {},
   "source": [
    "Here we provide some examples of how to create images and populate them with model sources and skies.  This notebook is split into the following sections.\n",
    "\n",
    " 1. **Basic image creation**\n",
    " 2. **Masking an image and fitting the sky background**\n",
    " 3. **Advanced technique: making an average sky model with dithered exposures**"
   ]
  },
  {
   "cell_type": "markdown",
   "id": "c5b23513",
   "metadata": {},
   "source": [
    "## 1. Basic image creation\n",
    "---"
   ]
  },
  {
   "cell_type": "code",
   "execution_count": null,
   "id": "5c96d510",
   "metadata": {},
   "outputs": [],
   "source": [
    "import numpy as np\n",
    "from astropy.table import Table\n",
    "from astropy.convolution import Gaussian2DKernel\n",
    "from astropy.stats import sigma_clipped_stats as scs\n",
    "from astropy.modeling.models import Legendre2D\n",
    "import cv2\n",
    "import galsim\n",
    "import matplotlib.pyplot as plt\n",
    "from matplotlib import patches\n",
    "from fakes import insert_fakes as insfks\n",
    "from fakes import reduction_pipeline as rp"
   ]
  },
  {
   "cell_type": "markdown",
   "id": "2e402c73",
   "metadata": {},
   "source": [
    "This section shows the fundamentals behind creating images using our software package."
   ]
  },
  {
   "cell_type": "markdown",
   "id": "29166a1b",
   "metadata": {},
   "source": [
    "### Setting up a blank image"
   ]
  },
  {
   "cell_type": "markdown",
   "id": "873df03b",
   "metadata": {},
   "source": [
    "We first have to set up a blank image object, which we'll later populate with fake sources.  We start by setting up the parameters of that image.  Some of these we won't need until later."
   ]
  },
  {
   "cell_type": "code",
   "execution_count": null,
   "id": "3d6afc53",
   "metadata": {},
   "outputs": [],
   "source": [
    "magZp = 33.1  # Photometric zeropoint, in AB magnitudes\n",
    "\n",
    "bnFac = 64  # Factor for binning during polynomial sky estimation\n",
    "polyDeg = 1  # Order of polynomial for sky models\n",
    "\n",
    "raCen = 150.040635  # Field central right ascension, deg\n",
    "decCen = 2.208592  # Field central declination, deg\n",
    "pxScale = 0.2  # arcsec/px\n",
    "dimX = 2048  # Size of image x-axis\n",
    "dimY = 2048  # Size of image y-axis\n",
    "\n",
    "fwhm = 0.7  # Star PSF FWHM, in arcseconds\n",
    "\n",
    "# Set up the parameters of a sky model as a dictionary\n",
    "skyMean = 10**(-0.4*(20 - magZp - 2.5*np.log10(pxScale**2)))  # 20 mag/arcsec^2 surface brightness\n",
    "skyDict = {'c0_0': skyMean,\n",
    "           'c1_0': 0.015,\n",
    "           'c0_1': 0.0056,\n",
    "           'c1_1': 0.0}\n",
    "\n",
    "noise = galsim.noise.CCDNoise(gain=3., read_noise=5.)  # Noise generator; units are counts"
   ]
  },
  {
   "cell_type": "markdown",
   "id": "01127204",
   "metadata": {},
   "source": [
    "Now we create the image object that we'll use as a canvas."
   ]
  },
  {
   "cell_type": "code",
   "execution_count": null,
   "id": "2c88b70f",
   "metadata": {},
   "outputs": [],
   "source": [
    "image = insfks.ImageBuilder(dimX, dimY,\n",
    "                            raCen, decCen,\n",
    "                            pxScale,\n",
    "                            skyDict,\n",
    "                            None)\n",
    "# The last item is noise.  If we include it here, the image will have instrumental noise added to it immediately.\n",
    "# But we will include it later for demonstration purposes."
   ]
  },
  {
   "cell_type": "markdown",
   "id": "115b91f2",
   "metadata": {},
   "source": [
    "### Creating a source catalogue"
   ]
  },
  {
   "cell_type": "markdown",
   "id": "51aae4b1",
   "metadata": {},
   "source": [
    "Time to populate the image with some fake sources.  To keep things simple, we'll only use stars for this example."
   ]
  },
  {
   "cell_type": "code",
   "execution_count": null,
   "id": "01067453",
   "metadata": {},
   "outputs": [],
   "source": [
    "# We wrote a function to grab star parameters from the SDSS\n",
    "rad = np.round((1.5*dimX*pxScale)/3600, 1)  # Needs a search radius in degrees; we'll use a large one for insurance\n",
    "sdss_cat = insfks.getSDSSCatalogue(raCen, decCen, rad)"
   ]
  },
  {
   "cell_type": "code",
   "execution_count": null,
   "id": "9b9a6321",
   "metadata": {},
   "outputs": [],
   "source": [
    "# Turn it into a more accessible table, with AB magnitudes\n",
    "def sdssToAb(mag):\n",
    "    A = -(np.log(10)/2.5)\n",
    "    b = 1.8*10**-10  # i-band value\n",
    "    fJy = np.sinh(A*mag - np.log(b))*2*b\n",
    "    abMag = -2.5*np.log10(fJy)\n",
    "\n",
    "    return abMag\n",
    "\n",
    "# Accept only valid i-band magnitudes\n",
    "want = (sdss_cat['psfMag_i'] > 0) \\\n",
    "        & np.isfinite(sdssToAb(sdss_cat['psfMag_i']))\n",
    "# Make a new table\n",
    "sdss_stars = Table([sdssToAb(sdss_cat['psfMag_i'][want]),\n",
    "                    sdss_cat['ra'][want],\n",
    "                    sdss_cat['dec'][want]],\n",
    "                    names=['mag', 'ra', 'dec'])"
   ]
  },
  {
   "cell_type": "markdown",
   "id": "fe7d888d",
   "metadata": {},
   "source": [
    "### Populate the image with fakes"
   ]
  },
  {
   "cell_type": "markdown",
   "id": "e035a3a9",
   "metadata": {},
   "source": [
    "Now that we have a blank image and a star catalogue, we can inject some star models into the image."
   ]
  },
  {
   "cell_type": "code",
   "execution_count": null,
   "id": "e8bb47e7",
   "metadata": {},
   "outputs": [],
   "source": [
    "for k in range(len(sdss_stars)):\n",
    "    mod_star = insfks.DrawModels(ra=sdss_stars['ra'][k],\n",
    "                                 dec=sdss_stars['dec'][k],\n",
    "                                 image=image.image)  # This is the image object we draw in\n",
    "    mod_star.drawPsf(beta=3,\n",
    "                    fwhm=fwhm,\n",
    "                    mag=sdss_stars['mag'][k],\n",
    "                    method='auto',\n",
    "                    magZp=magZp)"
   ]
  },
  {
   "cell_type": "code",
   "execution_count": null,
   "id": "dcc6fd33",
   "metadata": {},
   "outputs": [],
   "source": [
    "# Let's take a quick look\n",
    "fig, ax = plt.subplots(1, figsize=(5, 5))\n",
    "ax.imshow(image.image.array, vmin=-10, vmax=10)"
   ]
  },
  {
   "cell_type": "markdown",
   "id": "7c4a2738",
   "metadata": {},
   "source": [
    "### Add a model sky and some noise"
   ]
  },
  {
   "cell_type": "markdown",
   "id": "691d96ba",
   "metadata": {},
   "source": [
    "Now we can add a plane sky to our image, plus some instrumental and shot noise.  We already set these up, so we just have to generate and add them."
   ]
  },
  {
   "cell_type": "code",
   "execution_count": null,
   "id": "a0f48fd5",
   "metadata": {},
   "outputs": [],
   "source": [
    "image.makeModelSky(polyDeg=polyDeg)  # Run this method to generate the sky model\n",
    "image.image.addNoise(noise)  # This adds instrumental noise to the image array, using the noise model"
   ]
  },
  {
   "cell_type": "code",
   "execution_count": null,
   "id": "d3859c84",
   "metadata": {},
   "outputs": [],
   "source": [
    "fullIm = image.image.array + image.sky  # Add on the sky"
   ]
  },
  {
   "cell_type": "code",
   "execution_count": null,
   "id": "cf14216b",
   "metadata": {},
   "outputs": [],
   "source": [
    "# Now let's look at the full image\n",
    "fig, ax = plt.subplots(1, figsize=(5, 5))\n",
    "ax.imshow(fullIm, vmin=skyMean-100, vmax=skyMean+100)"
   ]
  },
  {
   "cell_type": "markdown",
   "id": "8b9e9ec7",
   "metadata": {},
   "source": [
    "## 2. Masking an image and fitting the sky background\n",
    "---"
   ]
  },
  {
   "cell_type": "markdown",
   "id": "ea4e89cf",
   "metadata": {},
   "source": [
    "Now that we have an image to work with, we can try modelling the sky background and removing it.  Since we know the sources we injected, we don't have to run any detection algorithm to generate the mask.  Instead, we'll make a noise-free image with only the stars in it and use that."
   ]
  },
  {
   "cell_type": "code",
   "execution_count": null,
   "id": "4b38be6f",
   "metadata": {},
   "outputs": [],
   "source": [
    "# New image, no sky and noise.  Then populate it with stars.  See above.\n",
    "image = insfks.ImageBuilder(dimX, dimY,\n",
    "                            raCen, decCen,\n",
    "                            pxScale,\n",
    "                            {},  # Just passing a blank sky dictionary.\n",
    "                            None)  # No noise.\n",
    "\n",
    "for k in range(len(sdss_stars)):\n",
    "    mod_star = insfks.DrawModels(ra=sdss_stars['ra'][k],\n",
    "                                 dec=sdss_stars['dec'][k],\n",
    "                                 image=image.image)\n",
    "    mod_star.drawPsf(beta=3,\n",
    "                    fwhm=fwhm,\n",
    "                    mag=sdss_stars['mag'][k],\n",
    "                    method='auto',\n",
    "                    magZp=magZp)"
   ]
  },
  {
   "cell_type": "markdown",
   "id": "5d1cdc31",
   "metadata": {},
   "source": [
    "We'll mask all star models down to 32 mag/arcsec^2 in surface brightness."
   ]
  },
  {
   "cell_type": "code",
   "execution_count": null,
   "id": "6d3006d4",
   "metadata": {},
   "outputs": [],
   "source": [
    "# The masking function wants an HDUList, so we'll make that first.\n",
    "imHdu = rp.makeHduList(image.image.array)\n",
    "\n",
    "mask = rp.maskToLimit(imHdu,\n",
    "                      sbLim=32,\n",
    "                      magZp=magZp,\n",
    "                      pxScale=pxScale)"
   ]
  },
  {
   "cell_type": "code",
   "execution_count": null,
   "id": "99bf9147",
   "metadata": {},
   "outputs": [],
   "source": [
    "# Applying the mask and visualizing the results\n",
    "maskedIm = fullIm * 1.0\n",
    "maskedIm[mask[0].data > 0] = np.nan\n",
    "maskedIm = rp.makeHduList(maskedIm)  # We'll need it in this format\n",
    "\n",
    "fig, ax = plt.subplots(1, figsize=(5, 5))\n",
    "ax.imshow(maskedIm[0].data, vmin=skyMean-100, vmax=skyMean+100)"
   ]
  },
  {
   "cell_type": "markdown",
   "id": "44c82567",
   "metadata": {},
   "source": [
    "Every white pixel (NaN) is masked.  Now we can fit a plane to this masked image.  We also have a function for this."
   ]
  },
  {
   "cell_type": "code",
   "execution_count": null,
   "id": "b5e349ea",
   "metadata": {},
   "outputs": [],
   "source": [
    "skyFit, m, fit = rp.legendreSkySub(polyDeg,\n",
    "                                   maskedIm,\n",
    "                                   bnFac=bnFac,\n",
    "                                   full=True)  # This will allow us to look at the full fit parameters\n",
    "\n",
    "# We'll produce an image of the true sky model for comparison\n",
    "trueM = Legendre2D(polyDeg, polyDeg,\n",
    "                   c0_0=skyDict['c0_0'],\n",
    "                   c0_1=skyDict['c0_1'],\n",
    "                   c1_0=skyDict['c1_0'],\n",
    "                   c1_1=skyDict['c1_1'])\n",
    "X, Y = np.meshgrid(np.arange(1, dimX+1),\n",
    "                   np.arange(1, dimY+1))\n",
    "trueSky = trueM(X, Y)\n",
    "# Ignore all the warnings."
   ]
  },
  {
   "cell_type": "markdown",
   "id": "893cdb52",
   "metadata": {},
   "source": [
    "Let's look at the best-fit sky model."
   ]
  },
  {
   "cell_type": "code",
   "execution_count": null,
   "id": "3640f3de",
   "metadata": {
    "scrolled": false
   },
   "outputs": [],
   "source": [
    "fig, ax = plt.subplots(1, 3, figsize=(15, 5))\n",
    "ax[0].imshow(skyFit, vmin=skyMean-50, vmax=skyMean+50)\n",
    "ax[0].set_title(r\"Best-fit\")\n",
    "ax[1].imshow(trueSky, vmin=skyMean-50, vmax=skyMean+50)\n",
    "ax[1].set_title(r\"True sky\")\n",
    "ax[2].imshow(trueSky - skyFit, vmin=-1, vmax=1)\n",
    "ax[2].set_title(r\"True sky $-$ Best-fit\")"
   ]
  },
  {
   "cell_type": "markdown",
   "id": "8d867e4b",
   "metadata": {},
   "source": [
    "There are some slight differences.  We can check the best-fit parameters against the input values."
   ]
  },
  {
   "cell_type": "code",
   "execution_count": null,
   "id": "b0661cb8",
   "metadata": {},
   "outputs": [],
   "source": [
    "# Making a dictionary\n",
    "fitSkyDict = {\"c0_0\": m.c0_0.value,\n",
    "              \"c1_0\": m.c1_0.value,\n",
    "              \"c0_1\": m.c0_1.value,\n",
    "              \"c1_1\": m.c1_1.value}"
   ]
  },
  {
   "cell_type": "code",
   "execution_count": null,
   "id": "711fcc06",
   "metadata": {},
   "outputs": [],
   "source": [
    "# Looking at both side-by-side, the input and the best-fit\n",
    "for key in skyDict.keys():\n",
    "    print(key + \"   %.4f %.4f\" % (skyDict[key], fitSkyDict[key]))"
   ]
  },
  {
   "cell_type": "markdown",
   "id": "f9ac304f",
   "metadata": {},
   "source": [
    "## 3. Advanced technique: making an average sky model with dithered exposures\n",
    "---"
   ]
  },
  {
   "cell_type": "markdown",
   "id": "ba4eccaf",
   "metadata": {},
   "source": [
    "Here we demonstrate something more complex: the creation of a series of dithered \"exposures\", each with the same model sky injected into them, which we then median-combine and smooth to generate an averaged sky model.  The quickest way to do this is to sample sub-images from a larger, master image, rather than populating separate images with new models each iteration."
   ]
  },
  {
   "cell_type": "code",
   "execution_count": null,
   "id": "29ba15e0",
   "metadata": {},
   "outputs": [],
   "source": [
    "# Creating the larger, master image\n",
    "mSize = dimX*2\n",
    "masterIm = insfks.ImageBuilder(mSize, mSize,  # Twice as big as our initial test image\n",
    "                               raCen, decCen,  # Same center\n",
    "                               pxScale,  # Same scale\n",
    "                               {},  # No sky on the master; we'll add these to each exposure\n",
    "                               None)  # No noise either\n",
    "\n",
    "# Now adding stars to it\n",
    "for k in range(len(sdss_stars)):\n",
    "    mod_star = insfks.DrawModels(ra=sdss_stars['ra'][k],\n",
    "                                 dec=sdss_stars['dec'][k],\n",
    "                                 image=masterIm.image)\n",
    "    mod_star.drawPsf(beta=3,\n",
    "                    fwhm=fwhm,\n",
    "                    mag=sdss_stars['mag'][k],\n",
    "                    method='auto',\n",
    "                    magZp=magZp)"
   ]
  },
  {
   "cell_type": "code",
   "execution_count": null,
   "id": "3dd4c52c",
   "metadata": {},
   "outputs": [],
   "source": [
    "fig, ax = plt.subplots(1, figsize=(5, 5))\n",
    "ax.imshow(masterIm.image.array, vmin=-1, vmax=10)"
   ]
  },
  {
   "cell_type": "markdown",
   "id": "38210e7c",
   "metadata": {},
   "source": [
    "Now we can generate a list of image coordinates.  Our code uses a 3 x 3 grid of pointings around the central coordinate, but randomness can be added to these coordinates using the `tol` parameter, which is the fraction of the \"exposure\" size by which to perturb the default 9-point grid coordinates.\n",
    "\n",
    "We'll make 10 total exposures, then combine them to make our sky estimate."
   ]
  },
  {
   "cell_type": "code",
   "execution_count": null,
   "id": "a448dc04",
   "metadata": {},
   "outputs": [],
   "source": [
    "def makeSubIm(masterImage, xCen, yCen, size):\n",
    "    '''\n",
    "    Function to grab a smaller image from a larger one\n",
    "    '''\n",
    "    sub_im = masterImage.image.array[yCen - size//2: yCen + size//2,\n",
    "                                     xCen - size//2: xCen + size//2]\n",
    "    sub_im = rp.makeHduList(sub_im)\n",
    "\n",
    "    return sub_im"
   ]
  },
  {
   "cell_type": "code",
   "execution_count": null,
   "id": "330e7702",
   "metadata": {},
   "outputs": [],
   "source": [
    "# Generating the \"exposure\" coordinates\n",
    "ditherStep = dimX//4  # We'll use 1/4 the exposure image size for the 9-point pattern positions\n",
    "tol = 0.05  # And a 5% random offset in x and y from those coordinates\n",
    "\n",
    "# Center of the master image; we'll need this later\n",
    "xCen = masterIm.image.array.shape[1]//2\n",
    "yCen = masterIm.image.array.shape[0]//2\n",
    "\n",
    "# This is required because the self.ditheredCoordinates() method\n",
    "# blanks the image, so we want a blank image with the same WCS for that method\n",
    "masterBase = insfks.ImageBuilder(mSize, mSize,\n",
    "                                 raCen, decCen,\n",
    "                                 pxScale,\n",
    "                                 {})\n",
    "\n",
    "# 10 total exposures\n",
    "N = 10\n",
    "ims = []  # We'll append our new exposures to this\n",
    "xcens = []\n",
    "ycens = []  # Saving these for display purposes\n",
    "for i in range(N):\n",
    "    masterBase.ditheredCoordinates(ditherStep, tol)\n",
    "\n",
    "    # Now we'll adjust these in case the borders of some land outside of the master image boundaries\n",
    "    offsetX, offsetY = masterBase.offsets  # Grabbing the dithered positions\n",
    "    x_cen = xCen + offsetX\n",
    "    y_cen = yCen + offsetY\n",
    "    # We're making these sub-images the same size as the test images above\n",
    "    if (x_cen > mSize - dimX//2):\n",
    "        x_cen = mSize - dimX//2\n",
    "    if (x_cen < dimX//2):\n",
    "        x_cen = dimX//2\n",
    "    if (y_cen > mSize - dimY//2):\n",
    "        y_cen = mSize - dimY//2\n",
    "    if (y_cen < dimY//2):\n",
    "        y_cen = dimY//2\n",
    "    xcens.append(x_cen)\n",
    "    ycens.append(y_cen)\n",
    "        \n",
    "    # Generating a sky with same params but different noise each time\n",
    "    # Sky\n",
    "    skyBase = insfks.ImageBuilder(dimX, dimY,\n",
    "                                  raCen, decCen,\n",
    "                                  pxScale,\n",
    "                                  skyDict)  # We'll use the same sky model from before\n",
    "    skyBase.makeModelSky(polyDeg)\n",
    "    \n",
    "    # Noise\n",
    "    noiseIm = galsim.Image(dimX, dimY)\n",
    "    noiseIm.addNoise(noise)\n",
    "\n",
    "    subImage = makeSubIm(masterIm, x_cen, y_cen, dimX)  # Take the sub-image from the true master\n",
    "    fullImage = subImage[0].data + skyBase.sky + noiseIm.array\n",
    "\n",
    "    ims.append(fullImage)"
   ]
  },
  {
   "cell_type": "code",
   "execution_count": null,
   "id": "2bcca274",
   "metadata": {},
   "outputs": [],
   "source": [
    "# Let's visualize where these image cutouts all landed\n",
    "fig, ax = plt.subplots(1, figsize=(5, 5))\n",
    "ax.imshow(masterIm.image.array, vmin=-1, vmax=10)\n",
    "for i in range(len(xcens)):\n",
    "    pch = patches.Rectangle((xcens[i]-dimX//2,\n",
    "                             ycens[i]-dimY//2),  # This needs the bottom-left corner coordinate\n",
    "                           width=dimY,\n",
    "                           height=dimX,\n",
    "                           fill=False,\n",
    "                           edgecolor=\"w\",)\n",
    "    ax.add_patch(pch)"
   ]
  },
  {
   "cell_type": "code",
   "execution_count": null,
   "id": "272384d9",
   "metadata": {},
   "outputs": [],
   "source": [
    "# And verify that some of our exposures came out correctly\n",
    "fig, ax = plt.subplots(1, 3, figsize=(15, 5))\n",
    "ax[0].imshow(ims[0], vmin=skyMean-100, vmax=skyMean+100)\n",
    "ax[1].imshow(ims[5], vmin=skyMean-100, vmax=skyMean+100)\n",
    "ax[2].imshow(ims[9], vmin=skyMean-100, vmax=skyMean+100)"
   ]
  },
  {
   "cell_type": "markdown",
   "id": "b55ca2b0",
   "metadata": {},
   "source": [
    "All of our test exposures have the same sky model, but are placed in different locations around the master image.  Now we can make a sky estimate by median-combining these dithered exposures, and compare it to the true input sky model."
   ]
  },
  {
   "cell_type": "code",
   "execution_count": null,
   "id": "d9b8a403",
   "metadata": {},
   "outputs": [],
   "source": [
    "# We need a smoothing kernel, to reduce the noise in the combined sky model.\n",
    "kernelWidth = (1/15)*dimX  # Same scale as CFHT approach\n",
    "kernel = Gaussian2DKernel(x_stddev=kernelWidth,\n",
    "                          y_stddev=kernelWidth).array"
   ]
  },
  {
   "cell_type": "code",
   "execution_count": null,
   "id": "1819ca90",
   "metadata": {},
   "outputs": [],
   "source": [
    "# Now average the images and smooth the result\n",
    "__, avSky, __ = scs(ims, sigma=3, maxiters=5, axis=0)\n",
    "avSky = cv2.filter2D(avSky, -1, kernel)"
   ]
  },
  {
   "cell_type": "code",
   "execution_count": null,
   "id": "4a7a31eb",
   "metadata": {},
   "outputs": [],
   "source": [
    "fig, ax = plt.subplots(1, 3, figsize=(15, 5))\n",
    "ax[0].imshow(avSky, vmin=skyMean-50, vmax=skyMean+50)\n",
    "ax[0].set_title(r\"Averaged, N=%i\" % (N))\n",
    "ax[1].imshow(trueSky, vmin=skyMean-50, vmax=skyMean+50)\n",
    "ax[1].set_title(r\"True sky\")\n",
    "ax[2].imshow(trueSky - avSky, vmin=-5, vmax=5)\n",
    "ax[2].set_title(r\"True sky $-$ Averaged\")"
   ]
  },
  {
   "cell_type": "markdown",
   "id": "abd71d1a",
   "metadata": {},
   "source": [
    "As demonstrated in Watkins et al. (2024), the averaged sky has some noise leftover on the convolution kernel scale (as well as some problems at the image edges), but is fairly close to the input sky."
   ]
  },
  {
   "cell_type": "code",
   "execution_count": null,
   "id": "c9932e31",
   "metadata": {},
   "outputs": [],
   "source": []
  }
 ],
 "metadata": {
  "kernelspec": {
   "display_name": "Python 3 (ipykernel)",
   "language": "python",
   "name": "python3"
  },
  "language_info": {
   "codemirror_mode": {
    "name": "ipython",
    "version": 3
   },
   "file_extension": ".py",
   "mimetype": "text/x-python",
   "name": "python",
   "nbconvert_exporter": "python",
   "pygments_lexer": "ipython3",
   "version": "3.9.12"
  }
 },
 "nbformat": 4,
 "nbformat_minor": 5
}
